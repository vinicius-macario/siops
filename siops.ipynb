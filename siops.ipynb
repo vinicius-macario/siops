{
 "cells": [
  {
   "cell_type": "code",
   "execution_count": 7,
   "metadata": {},
   "outputs": [],
   "source": [
    "import pandas as pd\n",
    "import requests\n",
    "from urllib.request import Request, urlopen\n",
    "from urllib import request, parse\n",
    "from bs4 import BeautifulSoup\n",
    "import unicodedata"
   ]
  },
  {
   "cell_type": "markdown",
   "metadata": {},
   "source": [
    "## Municipios"
   ]
  },
  {
   "cell_type": "code",
   "execution_count": 154,
   "metadata": {},
   "outputs": [],
   "source": [
    "municipios_base = pd.read_excel(r\"...\\base_municipios.xls\", dtype='object')"
   ]
  },
  {
   "cell_type": "code",
   "execution_count": 155,
   "metadata": {},
   "outputs": [],
   "source": [
    "municipios = municipios[['uf', 'uf_cod', 'municipio', 'munic_cod6']].copy()"
   ]
  },
  {
   "cell_type": "code",
   "execution_count": 156,
   "metadata": {},
   "outputs": [],
   "source": [
    "municipios_ac = municipios[municipios['uf'] == 'AC']"
   ]
  },
  {
   "cell_type": "code",
   "execution_count": 165,
   "metadata": {},
   "outputs": [
    {
     "name": "stdout",
     "output_type": "stream",
     "text": [
      "293120\n",
      "530010\n",
      "520260\n",
      "210090\n",
      "210207\n",
      "211170\n",
      "260545\n",
      "220665\n",
      "220730\n",
      "220775\n",
      "221062\n",
      "240930\n"
     ]
    }
   ],
   "source": [
    "url3 = 'http://siops.datasus.gov.br/rel_LRF.php'\n",
    "base_geral = pd.DataFrame()\n",
    "\n",
    "for index, row in municipios.iterrows():\n",
    "    uf_id = municipios.loc[index , 'uf_cod']\n",
    "    municipio_id = municipios.loc[index , 'munic_cod6']\n",
    "\n",
    " \n",
    "    parametro = {\"cmbAno\": \"2020\", \"cmbUF\": uf_id, \"cmbPeriodo\": \"2\", \"cmbMunicipio[]\": municipio_id, \n",
    "                 \"BtConsultar\": \"Consultar\"}\n",
    "    \n",
    "    data = parse.urlencode(parametro).encode()\n",
    "    req =  request.Request(url3, data=data)\n",
    "    resp = request.urlopen(req)\n",
    "    rr = resp.read().decode('latin-1')\n",
    "    bs = BeautifulSoup(rr, \"html.parser\")\n",
    "    \n",
    "    try:\n",
    "        tabela = bs.find_all(class_='tam2 tdExterno')[11]\n",
    "        \n",
    "    except IndexError:\n",
    "        print(municipio_id)\n",
    "            \n",
    "    else:\n",
    "        df = pd.read_html(str(tabela))\n",
    "        dataframe = pd.DataFrame(df[0])\n",
    "\n",
    "        mun1 = bs.find_all(class_=\"tdr\")[0]\n",
    "        m = list(mun1.children)[1]\n",
    "        new_str = unicodedata.normalize(\"NFKD\", m)\n",
    "        new_str = new_str.strip()\n",
    "        \n",
    "        teste = dataframe.iloc[2:,1:]\n",
    "        teste['mun'] = municipio_id\n",
    "        teste['municipio'] = new_str\n",
    "        \n",
    "        #Html_file = open(\"filename_tabela_{0}.html\".format(municipio_id), \"w\")\n",
    "        #Html_file.write(str(tabela))\n",
    "        #Html_file.close()\n",
    "\n",
    "        base_geral = base_geral.append(teste)"
   ]
  },
  {
   "cell_type": "code",
   "execution_count": 1,
   "metadata": {},
   "outputs": [
    {
     "ename": "NameError",
     "evalue": "name 'base_geral' is not defined",
     "output_type": "error",
     "traceback": [
      "\u001b[1;31m---------------------------------------------------------------------------\u001b[0m",
      "\u001b[1;31mNameError\u001b[0m                                 Traceback (most recent call last)",
      "\u001b[1;32m<ipython-input-1-0002c51a4c7a>\u001b[0m in \u001b[0;36m<module>\u001b[1;34m\u001b[0m\n\u001b[1;32m----> 1\u001b[1;33m \u001b[0mbase_geral\u001b[0m\u001b[1;33m.\u001b[0m\u001b[0mto_excel\u001b[0m\u001b[1;33m(\u001b[0m\u001b[1;34m'emails.xls'\u001b[0m\u001b[1;33m)\u001b[0m\u001b[1;33m\u001b[0m\u001b[1;33m\u001b[0m\u001b[0m\n\u001b[0m",
      "\u001b[1;31mNameError\u001b[0m: name 'base_geral' is not defined"
     ]
    }
   ],
   "source": [
    "base_geral.to_excel('emails.xls')"
   ]
  },
  {
   "cell_type": "code",
   "execution_count": null,
   "metadata": {},
   "outputs": [],
   "source": []
  },
  {
   "cell_type": "code",
   "execution_count": null,
   "metadata": {},
   "outputs": [],
   "source": []
  },
  {
   "cell_type": "code",
   "execution_count": null,
   "metadata": {},
   "outputs": [],
   "source": []
  }
 ],
 "metadata": {
  "kernelspec": {
   "display_name": "Python 3",
   "language": "python",
   "name": "python3"
  },
  "language_info": {
   "codemirror_mode": {
    "name": "ipython",
    "version": 3
   },
   "file_extension": ".py",
   "mimetype": "text/x-python",
   "name": "python",
   "nbconvert_exporter": "python",
   "pygments_lexer": "ipython3",
   "version": "3.8.5"
  }
 },
 "nbformat": 4,
 "nbformat_minor": 4
}
